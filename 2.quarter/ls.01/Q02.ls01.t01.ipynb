{
 "cells": [
  {
   "cell_type": "code",
   "execution_count": 1,
   "metadata": {},
   "outputs": [],
   "source": [
    "import requests\n",
    "import json"
   ]
  },
  {
   "cell_type": "code",
   "execution_count": 2,
   "metadata": {},
   "outputs": [],
   "source": [
    "repos_url = 'https://api.github.com/users/iaminev/repos'\n",
    "file_name = 'Q2.ls01.t02.json'\n",
    "repo_name_key = 'name'"
   ]
  },
  {
   "cell_type": "code",
   "execution_count": 3,
   "metadata": {},
   "outputs": [
    {
     "name": "stdout",
     "output_type": "stream",
     "text": [
      "geek\n",
      "GeekBrains\n"
     ]
    }
   ],
   "source": [
    "repos_request = requests.get(repos_url)\n",
    "json_data = repos_request.json()\n",
    "with open(file_name, 'w') as json_file:\n",
    "    json.dump(json_data,json_file)\n",
    "for repo in json_data:\n",
    "    try:\n",
    "        print(repo[repo_name_key])\n",
    "    except KeyError:\n",
    "        print(f\" {repo_name_key} is unknown key\")\n"
   ]
  }
 ],
 "metadata": {
  "kernelspec": {
   "display_name": "Python 3",
   "language": "python",
   "name": "python3"
  },
  "language_info": {
   "codemirror_mode": {
    "name": "ipython",
    "version": 3
   },
   "file_extension": ".py",
   "mimetype": "text/x-python",
   "name": "python",
   "nbconvert_exporter": "python",
   "pygments_lexer": "ipython3",
   "version": "3.7.6"
  }
 },
 "nbformat": 4,
 "nbformat_minor": 4
}
